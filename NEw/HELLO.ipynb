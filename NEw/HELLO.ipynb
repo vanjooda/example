{
 "cells": [
  {
   "cell_type": "code",
   "execution_count": 21,
   "id": "c07ad7f7-4642-47b6-9c22-e886962df822",
   "metadata": {},
   "outputs": [
    {
     "name": "stdout",
     "output_type": "stream",
     "text": [
      "Requirement already satisfied: tweepy==4.8.0 in c:\\users\\kosmo\\anaconda3\\lib\\site-packages (4.8.0)\n",
      "Requirement already satisfied: oauthlib<4,>=3.2.0 in c:\\users\\kosmo\\anaconda3\\lib\\site-packages (from tweepy==4.8.0) (3.2.2)\n",
      "Requirement already satisfied: requests<3,>=2.27.0 in c:\\users\\kosmo\\anaconda3\\lib\\site-packages (from tweepy==4.8.0) (2.32.2)\n",
      "Requirement already satisfied: requests-oauthlib<2,>=1.2.0 in c:\\users\\kosmo\\anaconda3\\lib\\site-packages (from tweepy==4.8.0) (1.3.1)\n",
      "Requirement already satisfied: charset-normalizer<4,>=2 in c:\\users\\kosmo\\anaconda3\\lib\\site-packages (from requests<3,>=2.27.0->tweepy==4.8.0) (2.0.4)\n",
      "Requirement already satisfied: idna<4,>=2.5 in c:\\users\\kosmo\\anaconda3\\lib\\site-packages (from requests<3,>=2.27.0->tweepy==4.8.0) (3.7)\n",
      "Requirement already satisfied: urllib3<3,>=1.21.1 in c:\\users\\kosmo\\anaconda3\\lib\\site-packages (from requests<3,>=2.27.0->tweepy==4.8.0) (2.2.2)\n",
      "Requirement already satisfied: certifi>=2017.4.17 in c:\\users\\kosmo\\anaconda3\\lib\\site-packages (from requests<3,>=2.27.0->tweepy==4.8.0) (2024.8.30)\n"
     ]
    }
   ],
   "source": [
    "!pip install tweepy==4.8.0\n"
   ]
  },
  {
   "cell_type": "code",
   "execution_count": 25,
   "id": "ccd8b793-0abc-450b-9186-edc2cd74615f",
   "metadata": {},
   "outputs": [
    {
     "data": {
      "text/plain": [
       "'4.8.0'"
      ]
     },
     "execution_count": 25,
     "metadata": {},
     "output_type": "execute_result"
    }
   ],
   "source": [
    "import tweepy\n",
    "tweepy.__version__"
   ]
  },
  {
   "cell_type": "code",
   "execution_count": null,
   "id": "45b49efb-d051-48f4-8859-52d75a854eda",
   "metadata": {},
   "outputs": [],
   "source": []
  }
 ],
 "metadata": {
  "kernelspec": {
   "display_name": "Python 3 (ipykernel)",
   "language": "python",
   "name": "python3"
  },
  "language_info": {
   "codemirror_mode": {
    "name": "ipython",
    "version": 3
   },
   "file_extension": ".py",
   "mimetype": "text/x-python",
   "name": "python",
   "nbconvert_exporter": "python",
   "pygments_lexer": "ipython3",
   "version": "3.12.4"
  }
 },
 "nbformat": 4,
 "nbformat_minor": 5
}
