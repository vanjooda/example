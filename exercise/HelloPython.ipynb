{
 "cells": [
  {
   "cell_type": "code",
   "execution_count": 14,
   "id": "e9efa54a-70cc-4160-b731-33c3b8b3d520",
   "metadata": {
    "scrolled": true
   },
   "outputs": [
    {
     "data": {
      "text/plain": [
       "12"
      ]
     },
     "execution_count": 14,
     "metadata": {},
     "output_type": "execute_result"
    }
   ],
   "source": [
    "1+2\n",
    "3*4"
   ]
  },
  {
   "cell_type": "code",
   "execution_count": 18,
   "id": "270183ae-6397-4a8d-9b6f-062f9ea393b3",
   "metadata": {},
   "outputs": [
    {
     "data": {
      "text/plain": [
       "'C:\\\\pythonProject\\\\exercise'"
      ]
     },
     "execution_count": 18,
     "metadata": {},
     "output_type": "execute_result"
    }
   ],
   "source": [
    "pwd\n"
   ]
  },
  {
   "cell_type": "code",
   "execution_count": 22,
   "id": "4e11599f-8c59-4652-9bc2-d464e5f80c39",
   "metadata": {},
   "outputs": [
    {
     "name": "stdout",
     "output_type": "stream",
     "text": [
      "Requirement already satisfied: tweepy==4.8.0 in c:\\users\\kosmo\\anaconda3\\lib\\site-packages (4.8.0)\n",
      "Requirement already satisfied: oauthlib<4,>=3.2.0 in c:\\users\\kosmo\\anaconda3\\lib\\site-packages (from tweepy==4.8.0) (3.2.2)\n",
      "Requirement already satisfied: requests<3,>=2.27.0 in c:\\users\\kosmo\\anaconda3\\lib\\site-packages (from tweepy==4.8.0) (2.32.2)\n",
      "Requirement already satisfied: requests-oauthlib<2,>=1.2.0 in c:\\users\\kosmo\\anaconda3\\lib\\site-packages (from tweepy==4.8.0) (1.3.1)\n",
      "Requirement already satisfied: charset-normalizer<4,>=2 in c:\\users\\kosmo\\anaconda3\\lib\\site-packages (from requests<3,>=2.27.0->tweepy==4.8.0) (2.0.4)\n",
      "Requirement already satisfied: idna<4,>=2.5 in c:\\users\\kosmo\\anaconda3\\lib\\site-packages (from requests<3,>=2.27.0->tweepy==4.8.0) (3.7)\n",
      "Requirement already satisfied: urllib3<3,>=1.21.1 in c:\\users\\kosmo\\anaconda3\\lib\\site-packages (from requests<3,>=2.27.0->tweepy==4.8.0) (2.2.2)\n",
      "Requirement already satisfied: certifi>=2017.4.17 in c:\\users\\kosmo\\anaconda3\\lib\\site-packages (from requests<3,>=2.27.0->tweepy==4.8.0) (2024.8.30)\n"
     ]
    }
   ],
   "source": [
    "!pip install tweepy==4.8.0\n"
   ]
  },
  {
   "cell_type": "code",
   "execution_count": null,
   "id": "255a9055-a31a-4527-bca6-2ebf5ce94152",
   "metadata": {},
   "outputs": [],
   "source": [
    "import tweepy\n",
    "tweepy.__version__"
   ]
  },
  {
   "cell_type": "code",
   "execution_count": null,
   "id": "85e347eb-9320-489a-9ac9-8b368e976aa7",
   "metadata": {},
   "outputs": [],
   "source": [
    "i"
   ]
  }
 ],
 "metadata": {
  "kernelspec": {
   "display_name": "Python 3 (ipykernel)",
   "language": "python",
   "name": "python3"
  },
  "language_info": {
   "codemirror_mode": {
    "name": "ipython",
    "version": 3
   },
   "file_extension": ".py",
   "mimetype": "text/x-python",
   "name": "python",
   "nbconvert_exporter": "python",
   "pygments_lexer": "ipython3",
   "version": "3.12.4"
  }
 },
 "nbformat": 4,
 "nbformat_minor": 5
}
